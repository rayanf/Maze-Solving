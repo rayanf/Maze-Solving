{
 "cells": [],
 "metadata": {
  "kernelspec": {
   "display_name": "Python 3",
   "language": "python",
   "name": "python3"
  },
  "language_info": {
   "codemirror_mode": {
    "name": "ipython",
    "version": 3
   },
   "file_extension": ".py",
   "mimetype": "text/x-python",
   "name": "python",
   "nbconvert_exporter": "python",
   "pygments_lexer": "ipython3",
   "version": "3.8.10"
  },
  "orig_nbformat": 4,
  "vscode": {
   "interpreter": {
    "hash": "d18a5d0088d9e7d5605d2c30fc39dac8d7516e618be9efc9a9bb75a19460dd9e"
   }
  }
 },
 "nbformat": 4,
 "nbformat_minor": 2
}
